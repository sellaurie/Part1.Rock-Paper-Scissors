{
 "cells": [
  {
   "cell_type": "code",
   "execution_count": 13,
   "id": "c3c9d0b5",
   "metadata": {},
   "outputs": [
    {
     "name": "stdout",
     "output_type": "stream",
     "text": [
      "Rock, Paper, or Scissors (enter 'exit' to quit): Rock\n",
      "You lose\n",
      "Rock, Paper, or Scissors (enter 'exit' to quit): Paper\n",
      "You win!\n",
      "Rock, Paper, or Scissors (enter 'exit' to quit): Rock\n",
      "You lose\n",
      "Rock, Paper, or Scissors (enter 'exit' to quit): exit\n"
     ]
    }
   ],
   "source": [
    "import random as rd\n",
    "\n",
    "c1 = [\"Rock\", \"Paper\", \"Scissors\"]\n",
    "\n",
    "\n",
    "choice = c1[rd.randint(0, 2)]\n",
    "\n",
    "play = True\n",
    "\n",
    "while play:\n",
    "    guess = input(\"Rock, Paper, or Scissors (enter 'exit' to quit): \")\n",
    "    \n",
    "    if guess == 'exit':\n",
    "        break\n",
    "    \n",
    "    elif guess == 'Rock':\n",
    "        print(\"You lose\")\n",
    "        \n",
    "    elif guess == 'Paper':\n",
    "        print(\"You win!\")\n",
    "        \n",
    "    elif guess == 'Scissors':\n",
    "        print(\"It's a draw!\")\n",
    "        break\n",
    "\n"
   ]
  },
  {
   "cell_type": "code",
   "execution_count": null,
   "id": "9fe06f41",
   "metadata": {},
   "outputs": [],
   "source": []
  },
  {
   "cell_type": "code",
   "execution_count": null,
   "id": "be3850bf",
   "metadata": {},
   "outputs": [],
   "source": []
  }
 ],
 "metadata": {
  "kernelspec": {
   "display_name": "Python 3 (ipykernel)",
   "language": "python",
   "name": "python3"
  },
  "language_info": {
   "codemirror_mode": {
    "name": "ipython",
    "version": 3
   },
   "file_extension": ".py",
   "mimetype": "text/x-python",
   "name": "python",
   "nbconvert_exporter": "python",
   "pygments_lexer": "ipython3",
   "version": "3.9.7"
  }
 },
 "nbformat": 4,
 "nbformat_minor": 5
}
